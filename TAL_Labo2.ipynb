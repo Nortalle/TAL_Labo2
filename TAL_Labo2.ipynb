{
 "cells": [
  {
   "cell_type": "markdown",
   "metadata": {},
   "source": [
    "# Labo 2 - Mise en œuvre et évaluation de «POS taggers» pour le français"
   ]
  },
  {
   "cell_type": "markdown",
   "metadata": {},
   "source": [
    "## Télécharger des données en français annotées avec les POS tags : trois fichiers de données"
   ]
  },
  {
   "cell_type": "markdown",
   "metadata": {},
   "source": [
    "### Quel est le format de ces 3 fichiers ?"
   ]
  },
  {
   "cell_type": "markdown",
   "metadata": {},
   "source": [
    "C'est le format CoNLL-U \n",
    "Des lignes de mots séparés en dix colonne par un charactère de tabulation\n",
    "\n",
    "https://universaldependencies.org/format.html"
   ]
  },
  {
   "cell_type": "markdown",
   "metadata": {},
   "source": [
    "###  Dans quelles colonnes se trouvent les mots et leur POS tags ?"
   ]
  },
  {
   "cell_type": "markdown",
   "metadata": {},
   "source": [
    "Colonne 0 : le mot\n",
    "Colonne 2 : le POS tags"
   ]
  },
  {
   "cell_type": "markdown",
   "metadata": {},
   "source": [
    "### Pouvez-vous trouver sur le Web la liste des POS tags du projet Universal Dependencies ?  "
   ]
  },
  {
   "cell_type": "markdown",
   "metadata": {},
   "source": [
    "https://universaldependencies.org/u/pos/"
   ]
  },
  {
   "cell_type": "markdown",
   "metadata": {},
   "source": [
    "Le labo de TAL de Stanford fournit un étiqueteur morpho -syntaxique (POS tagger) qui utilise l’apprentissage automatique: https://nlp.stanford.edu/software/tagger.html.  Ce tagger est en Java, et peut être exécuté en ligne de commande en utilisant les instructions fournies à l’URL précédente.Notez qu’il est aussi possible de l’appeler depuis NLTK (un notebook Jupyter) grâce au module nltk.tag.stanford (voir code source à https://www.nltk.org/_modules/nltk/tag/stanford.html) mais la gestion des différents chemins (de Java, des classes Stanford, des modèles) est un peu pénible."
   ]
  },
  {
   "cell_type": "markdown",
   "metadata": {},
   "source": [
    "Heeeey\n",
    "\n",
    "pour la première étape, celle où la commande doit ressembler à ça :\n",
    "\n",
    "java -mx1000m -classpath stanford-postagger.jar edu.stanford.nlp.tagger.maxent.MaxentTagger -p\n",
    "rop models/french-ud.tagger.props\n",
    " \n",
    "et votre french-ud.tagger.props à ça :\n",
    "\n",
    "model = models/french-ud.tagger\n",
    "testFile = format=TSV,wordColumn=1,tagColumn=3,../data/fr-ud-test.conllu3\n",
    "\n",
    "fr-ud-test.conllu3 vous donne : \n",
    "Unkown words right : 487 (69.87%)\n",
    "\n",
    "fr-ud-dev.conllu3 vous donne : \n",
    "Unkown words right : 2232 (73.20%)\n",
    "?"
   ]
  }
 ],
 "metadata": {
  "kernelspec": {
   "display_name": "Python 3",
   "language": "python",
   "name": "python3"
  },
  "language_info": {
   "codemirror_mode": {
    "name": "ipython",
    "version": 3
   },
   "file_extension": ".py",
   "mimetype": "text/x-python",
   "name": "python",
   "nbconvert_exporter": "python",
   "pygments_lexer": "ipython3",
   "version": "3.6.3"
  }
 },
 "nbformat": 4,
 "nbformat_minor": 2
}
