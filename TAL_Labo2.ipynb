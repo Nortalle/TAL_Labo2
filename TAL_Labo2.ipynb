{
 "cells": [
  {
   "cell_type": "markdown",
   "metadata": {},
   "source": [
    "# Labo 2 - Mise en œuvre et évaluation de «POS taggers» pour le français\n",
    "Nathan Gonzalez et Vincent Guidoux"
   ]
  },
  {
   "cell_type": "markdown",
   "metadata": {},
   "source": [
    "## 1.Télécharger des données en français annotées avec les POS tags : trois fichiers de données"
   ]
  },
  {
   "cell_type": "markdown",
   "metadata": {},
   "source": [
    "### Quel est le format de ces 3 fichiers ?"
   ]
  },
  {
   "cell_type": "markdown",
   "metadata": {},
   "source": [
    "C'est le format CoNLL-U \n",
    "Des lignes de mots séparés en dix colonne par un charactère de tabulation\n",
    "\n",
    "https://universaldependencies.org/format.html"
   ]
  },
  {
   "cell_type": "markdown",
   "metadata": {},
   "source": [
    "###  Dans quelles colonnes se trouvent les mots et leur POS tags ?"
   ]
  },
  {
   "cell_type": "markdown",
   "metadata": {},
   "source": [
    "    - Colonne 0 : le mot\n",
    "    - Colonne 2 : le POS tags"
   ]
  },
  {
   "cell_type": "markdown",
   "metadata": {},
   "source": [
    "### Pouvez-vous trouver sur le Web la liste des POS tags du projet Universal Dependencies ?  "
   ]
  },
  {
   "cell_type": "markdown",
   "metadata": {},
   "source": [
    "https://universaldependencies.org/u/pos/"
   ]
  },
  {
   "cell_type": "markdown",
   "metadata": {},
   "source": [
    "## 2.Évaluer le Stanford POS tagger pour le français avec les modèles fournis"
   ]
  },
  {
   "cell_type": "markdown",
   "metadata": {},
   "source": [
    "### b.Téléchargez les modèles pour le français et testez-les sur les fichiers « dev » et « test », en utilisant le modèle `french-ud.tagger`. Quels sont les scores obtenus ?"
   ]
  },
  {
   "cell_type": "markdown",
   "metadata": {},
   "source": [
    "`french-ud.tagger.props` composé respectivement de \n",
    "\n",
    "```model = models/french-ud.tagger\n",
    "testFile = format=TSV,wordColumn=1,tagColumn=3,../data/fr-ud-dev.conllu3```\n",
    "\n",
    "et\n",
    "\n",
    "```model = models/french-ud.tagger\n",
    "testFile = format=TSV,wordColumn=1,tagColumn=3,../data/fr-ud-test.conllu3```\n",
    "\n",
    "en faisant la commande :\n",
    "\n",
    "`java -mx1000m -classpath stanford-postagger.jar edu.stanford.nlp.tagger.maxent.MaxentTagger -p\n",
    "rop models/french-ud.tagger.props`\n",
    " \n",
    "fr-ud-test.conllu3 nous donne : \n",
    "Unkown words right : 487 *(69.87%)*\n",
    "\n",
    "fr-ud-dev.conllu3 nous donne : \n",
    "Unkown words right : 2232 *(73.20%)*"
   ]
  },
  {
   "cell_type": "markdown",
   "metadata": {},
   "source": [
    "## 3.Entraîner le Stanford POS tagger sur les données UD en français"
   ]
  },
  {
   "cell_type": "markdown",
   "metadata": {},
   "source": [
    "### c.Quel modèle est meilleur, le vôtre ou celui téléchargé en 2 ?"
   ]
  },
  {
   "cell_type": "markdown",
   "metadata": {},
   "source": [
    "`french-ud.tagger.props` composé de\n",
    "\n",
    "```model = models/french-ud.tagger\n",
    "trainFile = format=TSV,wordColumn=1,tagColumn=3,../data/fr-ud-train.conllu3```\n",
    "\n",
    "en l'entraînant avec la commande :\n",
    "\n",
    "`java -mx1000m -classpath stanford-postagger.jar edu.stanford.nlp.tagger.maxent.MaxentTagger -p\n",
    "rop models/french-ud.tagger.props`\n",
    "\n",
    "et en faisant la même manipulation qu'au point `2b`\n",
    " \n",
    "fr-ud-test.conllu3 nous donne : \n",
    "Unkown words right : 489 *(81.364%)*\n",
    "\n",
    "fr-ud-dev.conllu3 nous donne : \n",
    "Unkown words right : 2243 *(83.04%)*\n",
    "\n",
    "Notre modèle entraîné est plus efficace"
   ]
  },
  {
   "cell_type": "markdown",
   "metadata": {},
   "source": [
    "## 4. Entraîner un POS tagger dans NLTK pour qu’il fonctionne sur le français."
   ]
  },
  {
   "cell_type": "markdown",
   "metadata": {},
   "source": [
    "### a.Importez les données en français dans NLTK"
   ]
  },
  {
   "cell_type": "code",
   "execution_count": 1,
   "metadata": {},
   "outputs": [],
   "source": [
    "from nltk.corpus.reader.conll import ConllCorpusReader\n",
    "from nltk.tag.perceptron import PerceptronTagger\n",
    "\n",
    "#source : http://techstuffbrazil.blogspot.com/2017/03/quick-tutorial-to-nltk-corpus-reader-of.html\n",
    "\n",
    "root = './data/'\n",
    "test = 'fr-ud-test.conllu3'\n",
    "train = 'fr-ud-train.conllu3'\n",
    "COLUMN_TYPES = ('ignore', \n",
    "                'words', \n",
    "                'ignore', \n",
    "                'pos', \n",
    "                'ignore', \n",
    "                'ignore', \n",
    "                'ignore', \n",
    "                'ignore', \n",
    "                'ignore', \n",
    "                'ignore')\n",
    "\n",
    "trainFile  = ConllCorpusReader(root=root, \n",
    "                                  fileids=train, \n",
    "                                  columntypes=COLUMN_TYPES, \n",
    "                                  encoding='utf8', \n",
    "                                  separator=\"\\t\", \n",
    "                                  tagset='universal')\n",
    "\n",
    "testFile  = ConllCorpusReader(root=root, \n",
    "                                  fileids=test, \n",
    "                                  columntypes=COLUMN_TYPES, \n",
    "                                  encoding='utf8', \n",
    "                                  separator=\"\\t\", \n",
    "                                  tagset='universal')\n",
    "\n",
    "train_words = trainFile.tagged_sents()\n",
    "test_words = testFile.tagged_sents()"
   ]
  },
  {
   "cell_type": "markdown",
   "metadata": {},
   "source": [
    "### c1.Entraînez ce module sur les données train"
   ]
  },
  {
   "cell_type": "code",
   "execution_count": 2,
   "metadata": {},
   "outputs": [],
   "source": [
    "tagger = PerceptronTagger(load=False)\n",
    "\n",
    "tagger.train(train_words)"
   ]
  },
  {
   "cell_type": "markdown",
   "metadata": {},
   "source": [
    "### c2.puis testez-le sur les données test grâce à la méthode evaluate"
   ]
  },
  {
   "cell_type": "code",
   "execution_count": 3,
   "metadata": {},
   "outputs": [
    {
     "data": {
      "text/plain": [
       "0.9596038065643814"
      ]
     },
     "execution_count": 3,
     "metadata": {},
     "output_type": "execute_result"
    }
   ],
   "source": [
    "tagger.evaluate(test_words)"
   ]
  },
  {
   "cell_type": "markdown",
   "metadata": {},
   "source": [
    "### Comment se compare-t-il avec les deux modèles du POS tagger MaxEnt de Stanford ?"
   ]
  },
  {
   "cell_type": "markdown",
   "metadata": {},
   "source": [
    "Il est beaucoup plus performant que les deux modèles des points 2 et 3"
   ]
  }
 ],
 "metadata": {
  "kernelspec": {
   "display_name": "Python 3",
   "language": "python",
   "name": "python3"
  },
  "language_info": {
   "codemirror_mode": {
    "name": "ipython",
    "version": 3
   },
   "file_extension": ".py",
   "mimetype": "text/x-python",
   "name": "python",
   "nbconvert_exporter": "python",
   "pygments_lexer": "ipython3",
   "version": "3.6.3"
  }
 },
 "nbformat": 4,
 "nbformat_minor": 2
}
